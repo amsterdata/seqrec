{
 "cells": [
  {
   "cell_type": "code",
   "execution_count": 1,
   "id": "d1576fe7",
   "metadata": {},
   "outputs": [],
   "source": [
    "import pandas as pd\n",
    "import numpy as np\n",
    "from seqrec import TIFUKNN\n",
    "import seqrec.data"
   ]
  },
  {
   "cell_type": "code",
   "execution_count": 2,
   "id": "101ca5ac",
   "metadata": {},
   "outputs": [],
   "source": [
    "all_train_baskets = pd.read_csv(\"datasets/instacart30k/train_baskets.csv.gz\")\n",
    "all_validation_baskets = pd.read_csv(\"datasets/instacart30k/valid_baskets.csv\")\n",
    "all_test_baskets = pd.read_csv(\"datasets/instacart30k/test_baskets.csv\") "
   ]
  },
  {
   "cell_type": "code",
   "execution_count": 3,
   "id": "b1b137c7",
   "metadata": {},
   "outputs": [],
   "source": [
    "seed = 1311\n",
    "num_users = 10000\n",
    "\n",
    "np.random.seed(seed)\n",
    "\n",
    "unique_user_ids = list(all_train_baskets.user_id.unique())\n",
    "sampled_users = np.random.choice(unique_user_ids, num_users)\n",
    "train_baskets = all_train_baskets[all_train_baskets.user_id.isin(sampled_users)]\n",
    "validation_baskets = all_validation_baskets[all_validation_baskets.user_id.isin(sampled_users)]\n",
    "test_baskets = all_test_baskets[all_test_baskets.user_id.isin(sampled_users)] \n",
    "\n",
    "seqrec.data.index_consecutive('user_id', [train_baskets, validation_baskets, test_baskets])\n",
    "seqrec.data.index_consecutive('item_id', [train_baskets, validation_baskets, test_baskets])"
   ]
  },
  {
   "cell_type": "code",
   "execution_count": 4,
   "id": "89b88927",
   "metadata": {},
   "outputs": [
    {
     "data": {
      "text/plain": [
       "1367487"
      ]
     },
     "execution_count": 4,
     "metadata": {},
     "output_type": "execute_result"
    }
   ],
   "source": [
    "len(train_baskets)"
   ]
  },
  {
   "cell_type": "code",
   "execution_count": 5,
   "id": "b8e05006",
   "metadata": {},
   "outputs": [
    {
     "name": "stdout",
     "output_type": "stream",
     "text": [
      "Setup 2895.09\n",
      "Rust reps 33475.296\n"
     ]
    },
    {
     "name": "stderr",
     "output_type": "stream",
     "text": [
      "116247\n",
      "8430\n",
      "--Creating transpose of R...\n"
     ]
    },
    {
     "name": "stdout",
     "output_type": "stream",
     "text": [
      "Neighbors 89291.03499999999\n",
      "CPU times: user 41.4 s, sys: 44.9 s, total: 1min 26s\n",
      "Wall time: 1min 47s\n"
     ]
    },
    {
     "name": "stderr",
     "output_type": "stream",
     "text": [
      "--Computing row norms...\n",
      "--Configuring for top-k -- num_threads: 8; pinning? false;\n",
      "--Scheduling parallel top-k computation...\n"
     ]
    }
   ],
   "source": [
    "%%time\n",
    "tifu = TIFUKNN(train_baskets, k=10, kplus=40)"
   ]
  },
  {
   "cell_type": "code",
   "execution_count": 6,
   "id": "07ee19f8",
   "metadata": {},
   "outputs": [
    {
     "data": {
      "text/plain": [
       "[(7279, 0.44695767760276794),\n",
       " (5184, 0.4224347472190857),\n",
       " (8173, 0.4104841351509094),\n",
       " (5178, 0.38635870814323425),\n",
       " (2446, 0.3803006708621979),\n",
       " (2351, 0.3799600899219513),\n",
       " (8268, 0.37488076090812683),\n",
       " (8393, 0.3720211982727051),\n",
       " (1334, 0.3645762503147125),\n",
       " (7378, 0.3610772490501404),\n",
       " (3832, 0.3516826331615448),\n",
       " (2281, 0.34509581327438354),\n",
       " (4324, 0.33925291895866394),\n",
       " (6633, 0.33916357159614563),\n",
       " (2570, 0.33826830983161926),\n",
       " (3907, 0.3344752788543701),\n",
       " (837, 0.33420756459236145),\n",
       " (4050, 0.3338434100151062),\n",
       " (7189, 0.3302789628505707),\n",
       " (5018, 0.3290339410305023),\n",
       " (6840, 0.32792091369628906),\n",
       " (4940, 0.3270239531993866),\n",
       " (8162, 0.31851470470428467),\n",
       " (787, 0.3180810213088989),\n",
       " (7571, 0.3167879581451416),\n",
       " (6245, 0.3160063922405243),\n",
       " (2586, 0.3147020936012268),\n",
       " (3725, 0.3144998848438263),\n",
       " (3382, 0.3144665062427521),\n",
       " (5404, 0.3137041926383972),\n",
       " (2583, 0.3125326931476593),\n",
       " (8158, 0.312523752450943),\n",
       " (3881, 0.3124087452888489),\n",
       " (2333, 0.31074056029319763),\n",
       " (7175, 0.3106416165828705),\n",
       " (2663, 0.3097853362560272),\n",
       " (3157, 0.30795449018478394),\n",
       " (7150, 0.3078349530696869),\n",
       " (6332, 0.30752623081207275),\n",
       " (2384, 0.30690228939056396),\n",
       " (6947, 0.3048374354839325),\n",
       " (1108, 0.30478206276893616),\n",
       " (7724, 0.3047454059123993),\n",
       " (1849, 0.30404990911483765),\n",
       " (5686, 0.30001935362815857),\n",
       " (2309, 0.29984721541404724),\n",
       " (3, 0.2993967831134796),\n",
       " (3698, 0.29770275950431824),\n",
       " (443, 0.2972363829612732),\n",
       " (1839, 0.29677867889404297)]"
      ]
     },
     "execution_count": 6,
     "metadata": {},
     "output_type": "execute_result"
    }
   ],
   "source": [
    "tifu.retrieve_for(5)"
   ]
  },
  {
   "cell_type": "code",
   "execution_count": 7,
   "id": "f49042d7",
   "metadata": {},
   "outputs": [
    {
     "data": {
      "text/plain": [
       "[9256, 5810, 15419, 14863, 31707]"
      ]
     },
     "execution_count": 7,
     "metadata": {},
     "output_type": "execute_result"
    }
   ],
   "source": [
    "tifu.predict(5, [neighbor for neighbor, _ in tifu.retrieve_for(5)[:10]], 5)"
   ]
  },
  {
   "cell_type": "code",
   "execution_count": null,
   "id": "09579af6",
   "metadata": {},
   "outputs": [],
   "source": []
  }
 ],
 "metadata": {
  "kernelspec": {
   "display_name": "Python 3 (ipykernel)",
   "language": "python",
   "name": "python3"
  },
  "language_info": {
   "codemirror_mode": {
    "name": "ipython",
    "version": 3
   },
   "file_extension": ".py",
   "mimetype": "text/x-python",
   "name": "python",
   "nbconvert_exporter": "python",
   "pygments_lexer": "ipython3",
   "version": "3.9.16"
  }
 },
 "nbformat": 4,
 "nbformat_minor": 5
}
