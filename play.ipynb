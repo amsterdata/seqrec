{
 "cells": [
  {
   "cell_type": "code",
   "execution_count": null,
   "id": "d1576fe7",
   "metadata": {},
   "outputs": [],
   "source": [
    "import pandas as pd\n",
    "import numpy as np\n",
    "from seqrec import TIFUKNN\n",
    "import seqrec.data"
   ]
  },
  {
   "cell_type": "code",
   "execution_count": 2,
   "id": "101ca5ac",
   "metadata": {},
   "outputs": [],
   "source": [
    "all_train_baskets = pd.read_csv(\"datasets/instacart30k/train_baskets.csv.gz\")\n",
    "all_validation_baskets = pd.read_csv(\"datasets/instacart30k/valid_baskets.csv\")\n",
    "all_test_baskets = pd.read_csv(\"datasets/instacart30k/test_baskets.csv\") "
   ]
  },
  {
   "cell_type": "code",
   "execution_count": 3,
   "id": "b1b137c7",
   "metadata": {},
   "outputs": [],
   "source": [
    "seed = 1311\n",
    "num_users = 10000\n",
    "\n",
    "np.random.seed(seed)\n",
    "\n",
    "unique_user_ids = list(all_train_baskets.user_id.unique())\n",
    "sampled_users = np.random.choice(unique_user_ids, num_users)\n",
    "train_baskets = all_train_baskets[all_train_baskets.user_id.isin(sampled_users)]\n",
    "validation_baskets = all_validation_baskets[all_validation_baskets.user_id.isin(sampled_users)]\n",
    "test_baskets = all_test_baskets[all_test_baskets.user_id.isin(sampled_users)] \n",
    "\n",
    "seqrec.data.index_consecutive('user_id', [train_baskets, validation_baskets, test_baskets])\n",
    "seqrec.data.index_consecutive('item_id', [train_baskets, validation_baskets, test_baskets])"
   ]
  },
  {
   "cell_type": "code",
   "execution_count": 4,
   "id": "89b88927",
   "metadata": {},
   "outputs": [
    {
     "data": {
      "text/plain": [
       "1367487"
      ]
     },
     "execution_count": 4,
     "metadata": {},
     "output_type": "execute_result"
    }
   ],
   "source": [
    "len(train_baskets)"
   ]
  },
  {
   "cell_type": "code",
   "execution_count": 5,
   "id": "b8e05006",
   "metadata": {},
   "outputs": [
    {
     "name": "stdout",
     "output_type": "stream",
     "text": [
      "Setup 2938.087\n",
      "Rust reps 36695.685\n"
     ]
    },
    {
     "name": "stderr",
     "output_type": "stream",
     "text": [
      "116247\n",
      "8430\n",
      "--Creating transpose of R...\n",
      "--Computing row norms...\n",
      "--Configuring for top-k -- num_threads: 8; pinning? false;\n",
      "--Scheduling parallel top-k computation...\n"
     ]
    },
    {
     "name": "stdout",
     "output_type": "stream",
     "text": [
      "Neighbors 54627.149000000005\n",
      "CPU times: user 40.9 s, sys: 43.2 s, total: 1min 24s\n",
      "Wall time: 1min 43s\n"
     ]
    }
   ],
   "source": [
    "%%time\n",
    "tifu = TIFUKNN(train_baskets, k=10, kplus=40)"
   ]
  },
  {
   "cell_type": "code",
   "execution_count": null,
   "id": "07ee19f8",
   "metadata": {},
   "outputs": [],
   "source": [
    "tifu.retrieve_for(5)"
   ]
  },
  {
   "cell_type": "code",
   "execution_count": null,
   "id": "f49042d7",
   "metadata": {},
   "outputs": [],
   "source": [
    "tifu.predict(5, [neighbor for neighbor, _ in tifu.retrieve_for(5)[:10]], 5)"
   ]
  },
  {
   "cell_type": "code",
   "execution_count": null,
   "id": "67e7eb94",
   "metadata": {},
   "outputs": [],
   "source": []
  }
 ],
 "metadata": {
  "kernelspec": {
   "display_name": "Python 3 (ipykernel)",
   "language": "python",
   "name": "python3"
  },
  "language_info": {
   "codemirror_mode": {
    "name": "ipython",
    "version": 3
   },
   "file_extension": ".py",
   "mimetype": "text/x-python",
   "name": "python",
   "nbconvert_exporter": "python",
   "pygments_lexer": "ipython3",
   "version": "3.9.16"
  }
 },
 "nbformat": 4,
 "nbformat_minor": 5
}
